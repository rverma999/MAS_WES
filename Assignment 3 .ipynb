{
 "cells": [
  {
   "cell_type": "code",
   "execution_count": null,
   "id": "0a445ee2",
   "metadata": {},
   "outputs": [],
   "source": [
    "# Create shared object .so\n",
    "#"
   ]
  },
  {
   "cell_type": "code",
   "execution_count": 1,
   "id": "0efe3f1d",
   "metadata": {},
   "outputs": [
    {
     "name": "stdout",
     "output_type": "stream",
     "text": [
      "367044\n",
      "5871113\n"
     ]
    }
   ],
   "source": [
    "import ctypes\n",
    "import time\n",
    "\n",
    "_libInC = ctypes.CDLL('./sharedObject.so')\n",
    "_libInC.initialize_counters(1,0)\n",
    "\n",
    "# BEFORE\n",
    "print(_libInC.get_cycle_count())\n",
    "\n",
    "time.sleep(1)\n",
    "\n",
    "# AFTER\n",
    "print(_libInC.get_cycle_count())"
   ]
  },
  {
   "cell_type": "code",
   "execution_count": 2,
   "id": "fc28935d",
   "metadata": {},
   "outputs": [],
   "source": [
    "def recur_fibo(n):\n",
    "    if n <= 1:\n",
    "        #print(n)\n",
    "        final_num = n\n",
    "    else:\n",
    "        #print(n)\n",
    "         final_num = (recur_fibo(n-1) + recur_fibo(n-2))\n",
    "    return(final_num)"
   ]
  },
  {
   "cell_type": "code",
   "execution_count": 3,
   "id": "59eb3b97",
   "metadata": {},
   "outputs": [],
   "source": [
    "import time\n",
    "import ctypes\n",
    "import numpy as np\n",
    "\n",
    "# RUN 1\n",
    "_libInC = ctypes.CDLL('./sharedObject.so')\n",
    "\n",
    "times = []\n",
    "cycles = []\n",
    "\n",
    "_libInC.initialize_counters(1,0)\n",
    "\n",
    "# BEFORE\n",
    "cycle_start = _libInC.get_cycle_count()\n",
    "time_start = time.time()\n",
    "\n",
    "recur_fibo(5)\n",
    "\n",
    "# AFTER\n",
    "\n",
    "cycle_stop = _libInC.get_cycle_count()\n",
    "time_stop = time.time()\n",
    "\n",
    "total_time = time_stop - time_start\n",
    "total_cycle = cycle_stop - cycle_start\n",
    "\n",
    "times.append(total_time)\n",
    "cycles.append(total_cycle)"
   ]
  },
  {
   "cell_type": "code",
   "execution_count": 4,
   "id": "04ee1696",
   "metadata": {},
   "outputs": [],
   "source": [
    "# RUN 2\n",
    "_libInC.initialize_counters(1,0)\n",
    "\n",
    "# BEFORE\n",
    "cycle_start = _libInC.get_cycle_count()\n",
    "time_start = time.time()\n",
    "\n",
    "recur_fibo(5)\n",
    "\n",
    "# AFTER\n",
    "\n",
    "cycle_stop = _libInC.get_cycle_count()\n",
    "time_stop = time.time()\n",
    "\n",
    "total_time = time_stop - time_start\n",
    "total_cycle = cycle_stop - cycle_start\n",
    "\n",
    "times.append(total_time)\n",
    "cycles.append(total_cycle)"
   ]
  },
  {
   "cell_type": "code",
   "execution_count": 5,
   "id": "acb8c885",
   "metadata": {},
   "outputs": [],
   "source": [
    "# times_dict = {\"i\":<times[]>,\"i\":<times[]>}\n",
    "# times_dict.add({\"len(n)\":times[]})\n",
    "# dict.update({n: times})\n",
    "times_dict = dict()\n",
    "average_times = []\n",
    "standard_deviations = []\n",
    "times = []\n",
    "cycles = []"
   ]
  },
  {
   "cell_type": "code",
   "execution_count": 6,
   "id": "c632574a",
   "metadata": {},
   "outputs": [
    {
     "name": "stdout",
     "output_type": "stream",
     "text": [
      "[1, 2, 3, 4, 5, 6, 7, 8, 9, 10, 11, 12, 13, 14, 15, 16, 17, 18, 19]\n"
     ]
    }
   ],
   "source": [
    "n = list(range(1, 20))\n",
    "print(n)"
   ]
  },
  {
   "cell_type": "code",
   "execution_count": 7,
   "id": "fd3fe98b",
   "metadata": {},
   "outputs": [
    {
     "name": "stderr",
     "output_type": "stream",
     "text": [
      "Matplotlib is building the font cache; this may take a moment.\n"
     ]
    },
    {
     "name": "stdout",
     "output_type": "stream",
     "text": [
      "Times Dictionary:  {1: [2.4557113647460938e-05, 1.430511474609375e-05, 1.33514404296875e-05], 2: [3.075599670410156e-05, 1.9550323486328125e-05, 1.7881393432617188e-05], 3: [3.314018249511719e-05, 2.384185791015625e-05, 2.193450927734375e-05], 4: [3.910064697265625e-05, 3.1948089599609375e-05, 3.0040740966796875e-05], 5: [5.030632019042969e-05, 4.220008850097656e-05, 4.172325134277344e-05], 6: [6.937980651855469e-05, 6.198883056640625e-05, 6.031990051269531e-05], 7: [0.00010132789611816406, 9.226799011230469e-05, 8.988380432128906e-05], 8: [0.00015020370483398438, 0.00014090538024902344, 0.0001392364501953125], 9: [0.0002307891845703125, 0.0002181529998779297, 0.0002193450927734375], 10: [0.0003628730773925781, 0.00032639503479003906, 0.00032329559326171875], 11: [0.000530242919921875, 0.0005621910095214844, 0.0005164146423339844], 12: [0.0008378028869628906, 0.0008246898651123047, 0.0008311271667480469], 13: [0.0013401508331298828, 0.0013365745544433594, 0.0013344287872314453], 14: [0.0022208690643310547, 0.002146482467651367, 0.0021584033966064453], 15: [0.003531217575073242, 0.0034775733947753906, 0.0034742355346679688], 16: [0.005694866180419922, 0.0056536197662353516, 0.0056743621826171875], 17: [0.009205818176269531, 0.009126424789428711, 0.009137630462646484], 18: [0.014812469482421875, 0.014715433120727539, 0.014783143997192383], 19: [0.02390575408935547, 0.02380681037902832, 0.023937463760375977], 20: [0.038816213607788086, 0.038475751876831055, 0.03860116004943848], 21: [0.0624849796295166, 0.06245279312133789, 0.06249547004699707], 22: [0.10102725028991699, 0.10046052932739258, 0.10073304176330566], 23: [0.16269636154174805, 0.16260838508605957, 0.16308307647705078], 24: [0.26406431198120117, 0.26366543769836426, 0.2644541263580322], 25: [0.4277791976928711, 0.4272792339324951, 0.4276406764984131], 26: [0.6895530223846436, 0.6885855197906494, 0.6900029182434082], 27: [1.1304278373718262, 1.116621732711792, 1.1153607368469238], 28: [1.8046326637268066, 1.8037464618682861, 1.8050589561462402], 29: [2.925379991531372, 2.9309420585632324, 2.925337076187134], 30: [4.739596605300903, 4.75762414932251, 4.74302864074707], 31: [7.689373970031738, 7.6911399364471436, 7.67470645904541]}\n",
      "Average Times:  [1.7404556274414062e-05, 2.2729237874348957e-05, 2.6305516560872395e-05, 3.3696492513020836e-05, 4.474322001139323e-05, 6.389617919921875e-05, 9.449323018391927e-05, 0.0001434485117594401, 0.0002227624257405599, 0.000337521235148112, 0.0005362828572591146, 0.0008312066396077474, 0.0013370513916015625, 0.0021752516428629556, 0.0034943421681722007, 0.005674282709757487, 0.009156624476114908, 0.0147703488667806, 0.023883342742919922, 0.038631041844685875, 0.06247774759928385, 0.1007402737935384, 0.1627959410349528, 0.26406129201253253, 0.4275663693745931, 0.6893804868062338, 1.120803435643514, 1.8044793605804443, 2.9272197087605796, 4.746749798456828, 7.685073455174764]\n",
      "Standard Deviations:  [5.07258523217295e-06, 5.716524285747033e-06, 4.895166903951802e-06, 3.899842626694138e-06, 3.938519698258676e-06, 3.936915739854443e-06, 4.929880275494519e-06, 4.824990983537209e-06, 5.696602165685471e-06, 1.797106124371611e-05, 1.9169934454757397e-05, 5.353663696638518e-06, 2.3602235166100658e-06, 3.2621455034344465e-05, 2.6110432820518608e-05, 1.683887184904524e-05, 3.5084724874158105e-05, 4.0634963552827375e-05, 5.564337547384293e-05, 0.0001405898024442502, 1.8157765866525112e-05, 0.00023141937262196398, 0.0002061876746566571, 0.00032198787827109667, 0.00021076385191349565, 0.0005913718445747782, 0.006824922911103462, 0.0005466788810194404, 0.0026321570965877478, 0.00781593871045593, 0.007365940352035305]\n"
     ]
    }
   ],
   "source": [
    "\n",
    "import time\n",
    "import ctypes\n",
    "import numpy as np\n",
    "from matplotlib import pyplot as plt\n",
    "\n",
    "_libInC = ctypes.CDLL('./sharedObject.so')\n",
    "\n",
    "n = list(range(1, 32))\n",
    "\n",
    "for i in range(len(n)):\n",
    "    for j in range(3):\n",
    "        _libInC.initialize_counters(1,0)\n",
    "\n",
    "        # BEFORE\n",
    "        cycle_start = _libInC.get_cycle_count()\n",
    "        time_start = time.time()\n",
    "\n",
    "\n",
    "        recur_fibo(n[i])\n",
    "\n",
    "        # AFTER\n",
    "        cycle_stop = _libInC.get_cycle_count()\n",
    "        time_stop = time.time()\n",
    "\n",
    "        total_time = time_stop - time_start\n",
    "        total_cycle = cycle_stop - cycle_start\n",
    "\n",
    "        times.append(total_time)\n",
    "        cycles.append(total_cycle)\n",
    "    # i loop  \n",
    "    times_dict.update({n[i]:times})\n",
    "    \n",
    "    average_time = np.mean(times)\n",
    "    average_times.append(average_time)\n",
    "    #print(average_time)\n",
    "    \n",
    "    standard_deviation = np.std(times)\n",
    "    standard_deviations.append(standard_deviation)\n",
    "    #print(np.std(times))\n",
    "    \n",
    "    times = []\n",
    "    cycles = []\n",
    "print(\"Times Dictionary: \",times_dict)\n",
    "print(\"Average Times: \",average_times)\n",
    "print(\"Standard Deviations: \",standard_deviations)"
   ]
  },
  {
   "cell_type": "code",
   "execution_count": 8,
   "id": "4e34ee9a",
   "metadata": {},
   "outputs": [
    {
     "name": "stdout",
     "output_type": "stream",
     "text": [
      "Error:  1.2331971042241113e-05\n",
      "Error:  1.7012713588601924e-05\n",
      "Error:  2.141034965692059e-05\n",
      "Error:  2.9796649886326697e-05\n",
      "Error:  4.080470031313455e-05\n",
      "Error:  5.995926345936431e-05\n",
      "Error:  8.956334990842474e-05\n",
      "Error:  0.0001386235207759029\n",
      "Error:  0.00021706582357487443\n",
      "Error:  0.00031955017390439586\n",
      "Error:  0.0005171129228043573\n",
      "Error:  0.0008258529759111089\n",
      "Error:  0.0013346911680849525\n",
      "Error:  0.002142630187828611\n",
      "Error:  0.003468231735351682\n",
      "Error:  0.005657443837908442\n",
      "Error:  0.00912153975124075\n",
      "Error:  0.014729713903227772\n",
      "Error:  0.023827699367446078\n",
      "Error:  0.03849045204224162\n",
      "Error:  0.062459589833417324\n",
      "Error:  0.10050885442091645\n",
      "Error:  0.16258975336029613\n",
      "Error:  0.26373930413426144\n",
      "Error:  0.4273556055226796\n",
      "Error:  0.688789114961659\n",
      "Error:  1.1139785127324104\n",
      "Error:  1.803932681699425\n",
      "Error:  2.9245875516639916\n",
      "Error:  4.738933859746372\n",
      "Error:  7.677707514822728\n"
     ]
    }
   ],
   "source": [
    "error = []\n",
    "\n",
    "for i in range(len(n)):\n",
    "    if standard_deviations[i] > average_times[i]:\n",
    "        error.append(standard_deviations[i] - average_times[i])\n",
    "    else:\n",
    "        error.append(average_times[i] - standard_deviations[i])\n",
    "for i in error:\n",
    "    print(\"Error: \",i)"
   ]
  },
  {
   "cell_type": "code",
   "execution_count": 10,
   "id": "b0e43872",
   "metadata": {},
   "outputs": [
    {
     "data": {
      "image/png": "[encoded data removed]",
      "text/plain": [
       "<Figure size 432x288 with 1 Axes>"
      ]
     },
     "metadata": {
      "needs_background": "light"
     },
     "output_type": "display_data"
    }
   ],
   "source": [
    "import matplotlib.pyplot\n",
    "# times array\n",
    "x = n\n",
    "\n",
    "# n array\n",
    "y = error\n",
    "\n",
    "# Create a plot\n",
    "plt.plot(x, y, marker=\"o\")\n",
    "plt.xlabel(\"Fib N\")\n",
    "plt.ylabel(\"Error\")\n",
    "plt.title(\"Fibonacci Error\")\n",
    "\n",
    "# Set custom x-axis values\n",
    "x_ticks = list(range(1,len(n)))\n",
    "#x_labels = ['A', 'B', 'C', 'D', 'E']\n",
    "plt.xticks(ticks=x_ticks)\n",
    "\n",
    "# Show the plot\n",
    "plt.show()"
   ]
  },
  {
   "cell_type": "code",
   "execution_count": null,
   "id": "09958a87",
   "metadata": {},
   "outputs": [],
   "source": []
  }
 ],
 "metadata": {
  "kernelspec": {
   "display_name": "Python 3 (ipykernel)",
   "language": "python",
   "name": "python3"
  },
  "language_info": {
   "codemirror_mode": {
    "name": "ipython",
    "version": 3
   },
   "file_extension": ".py",
   "mimetype": "text/x-python",
   "name": "python",
   "nbconvert_exporter": "python",
   "pygments_lexer": "ipython3",
   "version": "3.10.4"
  }
 },
 "nbformat": 4,
 "nbformat_minor": 5
}
